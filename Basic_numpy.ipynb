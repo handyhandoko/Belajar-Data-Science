{
  "nbformat": 4,
  "nbformat_minor": 0,
  "metadata": {
    "colab": {
      "name": "Basic numpy.ipynb",
      "version": "0.3.2",
      "provenance": [],
      "include_colab_link": true
    },
    "kernelspec": {
      "name": "python3",
      "display_name": "Python 3"
    }
  },
  "cells": [
    {
      "cell_type": "markdown",
      "metadata": {
        "id": "view-in-github",
        "colab_type": "text"
      },
      "source": [
        "<a href=\"https://colab.research.google.com/github/handyhandoko/Belajar-Data-Science/blob/master/Basic_numpy.ipynb\" target=\"_parent\"><img src=\"https://colab.research.google.com/assets/colab-badge.svg\" alt=\"Open In Colab\"/></a>"
      ]
    },
    {
      "cell_type": "markdown",
      "metadata": {
        "id": "aB3M6WZOTH_z",
        "colab_type": "text"
      },
      "source": [
        "Pada tulisan kali, akan dibahas tentang operasi dasar menggunakan numpy.  Numpy adalah salah satu library yang digunakan untuk melakukan perhitungan menggunakan matriks/array.\n",
        "\n",
        "\n",
        "\n",
        "**import numpy**\n",
        "\n",
        "Untuk menggunakan, pertama-tama kita import dulu library numpy nya."
      ]
    },
    {
      "cell_type": "code",
      "metadata": {
        "id": "zWwqIJ9USdrG",
        "colab_type": "code",
        "colab": {}
      },
      "source": [
        "import numpy as np"
      ],
      "execution_count": 0,
      "outputs": []
    },
    {
      "cell_type": "markdown",
      "metadata": {
        "id": "yW5eyqPJTD27",
        "colab_type": "text"
      },
      "source": [
        "**Array 1 dimensi**\n",
        "\n",
        "Lalu kita akan coba membuat array 1 dimensi menggunakan numpy. Lalu kita coba lihat hasilnya dengan menggunakan perintah print."
      ]
    },
    {
      "cell_type": "code",
      "metadata": {
        "id": "wYM3ZmHuUUim",
        "colab_type": "code",
        "colab": {
          "base_uri": "https://localhost:8080/",
          "height": 34
        },
        "outputId": "f5934e47-eeae-496c-d377-40597cb1cca3"
      },
      "source": [
        "array1D = np.array([2, 3, 4, 5, 6])\n",
        "print (array1D)"
      ],
      "execution_count": 15,
      "outputs": [
        {
          "output_type": "stream",
          "text": [
            "[2 3 4 5 6]\n"
          ],
          "name": "stdout"
        }
      ]
    },
    {
      "cell_type": "markdown",
      "metadata": {
        "id": "4wQnysNKVV-K",
        "colab_type": "text"
      },
      "source": [
        "Kalau array sudah muncul, itu berarti kita berhasil membuat array menggunakan numpy.\n",
        "\n",
        "**Array 2 dimensi**\n",
        "\n",
        "Sekarang kita coba membuat array 2 dimensi dengan menggunakan numpy."
      ]
    },
    {
      "cell_type": "code",
      "metadata": {
        "id": "eesFwGzlVpcw",
        "colab_type": "code",
        "colab": {
          "base_uri": "https://localhost:8080/",
          "height": 51
        },
        "outputId": "37786fe8-add2-480c-a939-36d78798ca46"
      },
      "source": [
        "array2D = np.array([ [2, 3, 4], [5, 6, 7] ])\n",
        "print(array2D)"
      ],
      "execution_count": 7,
      "outputs": [
        {
          "output_type": "stream",
          "text": [
            "[[2 3 4]\n",
            " [5 6 7]]\n"
          ],
          "name": "stdout"
        }
      ]
    },
    {
      "cell_type": "markdown",
      "metadata": {
        "id": "8LoM297CWmlz",
        "colab_type": "text"
      },
      "source": [
        "**Indexing dan Slicing**\n",
        "\n",
        "Array pada Numpy mirip array pada bahasa pemrograman lainnya dimana array memiliki index. Jadi mari kita coba indexing dan slicing array yang telah kita buat. Perlu diingat bahwa array dimulai dari 0.\n",
        "\n",
        "Jadi, bukan cuman SPBU saja yang mulai dari 0. hehe..."
      ]
    },
    {
      "cell_type": "code",
      "metadata": {
        "id": "WNM6jyT7W4mx",
        "colab_type": "code",
        "colab": {
          "base_uri": "https://localhost:8080/",
          "height": 34
        },
        "outputId": "e91504a5-689b-4928-90ba-8cb1f70d8282"
      },
      "source": [
        "print(array1D[1])"
      ],
      "execution_count": 10,
      "outputs": [
        {
          "output_type": "stream",
          "text": [
            "3\n"
          ],
          "name": "stdout"
        }
      ]
    },
    {
      "cell_type": "markdown",
      "metadata": {
        "id": "Y1LXyj6xbGsp",
        "colab_type": "text"
      },
      "source": [
        "Indexing juga dapat kita gunakan untuk mengubah nilai dalam sebuah array."
      ]
    },
    {
      "cell_type": "code",
      "metadata": {
        "id": "h-2_GwPvbSCe",
        "colab_type": "code",
        "colab": {
          "base_uri": "https://localhost:8080/",
          "height": 68
        },
        "outputId": "c42bc97d-cd73-4a57-925e-22418dc56d88"
      },
      "source": [
        "print (array1D) #array sebelum diubah\n",
        "print(\"\")\n",
        "array1D[0] = 0 #ubah array pada index 0 dengan nilai 5\n",
        "print(array1D)"
      ],
      "execution_count": 20,
      "outputs": [
        {
          "output_type": "stream",
          "text": [
            "[7 3 4 5 6]\n",
            "\n",
            "[0 3 4 5 6]\n"
          ],
          "name": "stdout"
        }
      ]
    },
    {
      "cell_type": "markdown",
      "metadata": {
        "id": "GImypbLnXqjW",
        "colab_type": "text"
      },
      "source": [
        "****\n",
        "\n",
        "Sekarang kita coba untuk mengambil sebagian area dari array ini. Pada kali ini kita akan coba mengambil array ini dari index ke 2 hingga terakhir. Perlu diingat kembali, karena index dimulai dari 0, maka nilai akan diambil dari urutan ke 3 hingga terakhir."
      ]
    },
    {
      "cell_type": "code",
      "metadata": {
        "id": "ymQuBv7GXZ2m",
        "colab_type": "code",
        "colab": {
          "base_uri": "https://localhost:8080/",
          "height": 68
        },
        "outputId": "43fd8aa5-fec7-4203-f97e-ffa9dd6aa5b2"
      },
      "source": [
        "print(array1D)\n",
        "print(\"\")\n",
        "print(array1D[2:])"
      ],
      "execution_count": 18,
      "outputs": [
        {
          "output_type": "stream",
          "text": [
            "[5 3 4 5 6]\n",
            "\n",
            "[4 5 6]\n"
          ],
          "name": "stdout"
        }
      ]
    },
    {
      "cell_type": "markdown",
      "metadata": {
        "id": "8nqbC3omcwcp",
        "colab_type": "text"
      },
      "source": [
        "Kita juga bisa melakukan indexing pada array 2 dimensi."
      ]
    },
    {
      "cell_type": "code",
      "metadata": {
        "id": "u7mOcfxSdB3W",
        "colab_type": "code",
        "colab": {
          "base_uri": "https://localhost:8080/",
          "height": 85
        },
        "outputId": "d21d6388-457b-4791-c9e5-5626f4f1fcdb"
      },
      "source": [
        "print(array2D)\n",
        "print(\"\")\n",
        "print(array2D[1, 1])"
      ],
      "execution_count": 22,
      "outputs": [
        {
          "output_type": "stream",
          "text": [
            "[[2 3 4]\n",
            " [5 6 7]]\n",
            "\n",
            "6\n"
          ],
          "name": "stdout"
        }
      ]
    },
    {
      "cell_type": "markdown",
      "metadata": {
        "id": "hfGRScysd5Uu",
        "colab_type": "text"
      },
      "source": [
        "Kita juga dapat mengambil sebagian dari array 2 dimensi. Kita coba untuk mengambil baris pertama dari array2D."
      ]
    },
    {
      "cell_type": "code",
      "metadata": {
        "id": "GNjquE8deQB2",
        "colab_type": "code",
        "colab": {
          "base_uri": "https://localhost:8080/",
          "height": 85
        },
        "outputId": "1524b289-7e62-41dd-b3dc-53f6253626c3"
      },
      "source": [
        "print(array2D)\n",
        "print(\"\")\n",
        "print(array2D[0, :])"
      ],
      "execution_count": 24,
      "outputs": [
        {
          "output_type": "stream",
          "text": [
            "[[2 3 4]\n",
            " [5 6 7]]\n",
            "\n",
            "[2 3 4]\n"
          ],
          "name": "stdout"
        }
      ]
    },
    {
      "cell_type": "markdown",
      "metadata": {
        "id": "GCJJTSyReaOl",
        "colab_type": "text"
      },
      "source": [
        "Sekarang kita  coba untuk mengambil kolom kedua dari array 2D"
      ]
    },
    {
      "cell_type": "code",
      "metadata": {
        "id": "QCGjz5TveebG",
        "colab_type": "code",
        "colab": {
          "base_uri": "https://localhost:8080/",
          "height": 85
        },
        "outputId": "8d96bb0b-778c-48ba-8814-0ba60b775e30"
      },
      "source": [
        "print(array2D)\n",
        "print(\"\")\n",
        "print(array2D[:, 1])"
      ],
      "execution_count": 25,
      "outputs": [
        {
          "output_type": "stream",
          "text": [
            "[[2 3 4]\n",
            " [5 6 7]]\n",
            "\n",
            "[3 6]\n"
          ],
          "name": "stdout"
        }
      ]
    },
    {
      "cell_type": "markdown",
      "metadata": {
        "id": "a2dg86cre7nh",
        "colab_type": "text"
      },
      "source": [
        "**Operasi Matematika**\n",
        "\n",
        "Sekarang kita coba lebih jauh, kita coba melakukan operasi matematika sederhana. Mari kita mulai coba dengan penjumlahan."
      ]
    },
    {
      "cell_type": "code",
      "metadata": {
        "id": "Ztjy3OCCfML7",
        "colab_type": "code",
        "colab": {
          "base_uri": "https://localhost:8080/",
          "height": 34
        },
        "outputId": "72540324-5afe-4772-ab17-f471bdd4e6e1"
      },
      "source": [
        "array1D_part1 = np.array([4, 2, 7])\n",
        "array1D_part2 = np.array([1, 6, 3])\n",
        "\n",
        "print(array1D_part1 + array1D_part2)\n",
        "\n"
      ],
      "execution_count": 31,
      "outputs": [
        {
          "output_type": "stream",
          "text": [
            "[ 5  8 10]\n"
          ],
          "name": "stdout"
        }
      ]
    },
    {
      "cell_type": "markdown",
      "metadata": {
        "id": "jfOQIJxtgEEm",
        "colab_type": "text"
      },
      "source": [
        "Selanjutnya kita coba dengan pengurangan."
      ]
    },
    {
      "cell_type": "code",
      "metadata": {
        "id": "7KtvyxrFgG1C",
        "colab_type": "code",
        "colab": {
          "base_uri": "https://localhost:8080/",
          "height": 34
        },
        "outputId": "9a11bdbb-9455-48db-993b-8b48aac1b8e0"
      },
      "source": [
        "print(array1D_part2 - array1D_part1)"
      ],
      "execution_count": 34,
      "outputs": [
        {
          "output_type": "stream",
          "text": [
            "[-3  4 -4]\n"
          ],
          "name": "stdout"
        }
      ]
    },
    {
      "cell_type": "markdown",
      "metadata": {
        "id": "zVeT-X1MgqsX",
        "colab_type": "text"
      },
      "source": [
        "Lalu kita coba dengan perkalian."
      ]
    },
    {
      "cell_type": "code",
      "metadata": {
        "id": "iLgYd__Sgv-x",
        "colab_type": "code",
        "colab": {
          "base_uri": "https://localhost:8080/",
          "height": 34
        },
        "outputId": "1209c883-07e4-40ab-94f2-8e92831ebe80"
      },
      "source": [
        "print(array1D_part2 * array1D_part1)"
      ],
      "execution_count": 35,
      "outputs": [
        {
          "output_type": "stream",
          "text": [
            "[ 4 12 21]\n"
          ],
          "name": "stdout"
        }
      ]
    },
    {
      "cell_type": "markdown",
      "metadata": {
        "id": "uUESKZfUg8y8",
        "colab_type": "text"
      },
      "source": [
        "Operasi matematika tidak hanya berlaku untuk array 1 dimensi lho."
      ]
    },
    {
      "cell_type": "code",
      "metadata": {
        "id": "XQcN0U08hFRf",
        "colab_type": "code",
        "colab": {
          "base_uri": "https://localhost:8080/",
          "height": 153
        },
        "outputId": "ac11fbac-a0a7-4d68-b990-5053c357da59"
      },
      "source": [
        "array2D_part1 = np.array([ [1, 5, 7], [2, 6, 0] ])\n",
        "array2D_part2 = np.array([ [3, 6, 9], [2, 4, 8] ])\n",
        "\n",
        "print(array2D_part1 + array2D_part2)\n",
        "print(\"\")\n",
        "print(array2D_part2 - array2D_part1)\n",
        "print(\"\")\n",
        "print(array2D_part1 * array2D_part2)"
      ],
      "execution_count": 39,
      "outputs": [
        {
          "output_type": "stream",
          "text": [
            "[[ 4 11 16]\n",
            " [ 4 10  8]]\n",
            "\n",
            "[[ 2  1  2]\n",
            " [ 0 -2  8]]\n",
            "\n",
            "[[ 3 30 63]\n",
            " [ 4 24  0]]\n"
          ],
          "name": "stdout"
        }
      ]
    }
  ]
}