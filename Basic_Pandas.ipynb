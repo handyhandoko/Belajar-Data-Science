{
  "nbformat": 4,
  "nbformat_minor": 0,
  "metadata": {
    "colab": {
      "name": "Basic_Pandas",
      "version": "0.3.2",
      "provenance": [],
      "include_colab_link": true
    },
    "kernelspec": {
      "name": "python3",
      "display_name": "Python 3"
    }
  },
  "cells": [
    {
      "cell_type": "markdown",
      "metadata": {
        "id": "view-in-github",
        "colab_type": "text"
      },
      "source": [
        "<a href=\"https://colab.research.google.com/github/handyhandoko/Belajar-Data-Science/blob/master/Basic_Pandas.ipynb\" target=\"_parent\"><img src=\"https://colab.research.google.com/assets/colab-badge.svg\" alt=\"Open In Colab\"/></a>"
      ]
    },
    {
      "cell_type": "markdown",
      "metadata": {
        "id": "ERr2mO0YoxLQ",
        "colab_type": "text"
      },
      "source": [
        "Pada kali ini kita akan belajar tentang library Pandas. Library ini juga lazim digunakan dalam pengolahan data menggunakan Python.\n",
        "\n",
        "Untuk mulai menggunakan pandas, seperti juga library lainnya kita harus mengimport library tersebut terlebih dahulu."
      ]
    },
    {
      "cell_type": "code",
      "metadata": {
        "id": "ClAF11kqn8Xc",
        "colab_type": "code",
        "colab": {}
      },
      "source": [
        "import pandas as pd"
      ],
      "execution_count": 0,
      "outputs": []
    },
    {
      "cell_type": "markdown",
      "metadata": {
        "id": "6_S81h7zo4To",
        "colab_type": "text"
      },
      "source": [
        "Setelah itu baru kita bisa mulai menggunakan Pandas.\n",
        "\n",
        "\n",
        "**Series**\n",
        "\n",
        "Kalau kamu pernah menggunakan database, sebuah data disebut dengan \"record\". Kalau di excel disebut nya row.\n",
        "\n",
        "Dalam Pandas sendiri, sebuah data disebut dengan \"series\".\n",
        "\n",
        "Mari kita coba membuat sebuah series."
      ]
    },
    {
      "cell_type": "code",
      "metadata": {
        "id": "brOEzIZapdSA",
        "colab_type": "code",
        "outputId": "6a9b6aaf-a61c-48b9-ba78-fc0f1a6f6356",
        "colab": {
          "base_uri": "https://localhost:8080/",
          "height": 102
        }
      },
      "source": [
        "po = pd.Series([\"Po\", \"Panda\", \"Dragon Knight\", 7])\n",
        "print(po)"
      ],
      "execution_count": 0,
      "outputs": [
        {
          "output_type": "stream",
          "text": [
            "0               Po\n",
            "1            Panda\n",
            "2    Dragon Knight\n",
            "3                7\n",
            "dtype: object\n"
          ],
          "name": "stdout"
        }
      ]
    },
    {
      "cell_type": "markdown",
      "metadata": {
        "id": "g4_8P3hpre-b",
        "colab_type": "text"
      },
      "source": [
        "Kalau diperhatikan, series yang baru saja kita buat memiliki index berupa 0-3. Mirip seperti array biasa. \n",
        "\n",
        "Mari kita coba membuat ulang series itu. Tapi kali ini kita coba ganti indexnya dengan nama yang lebih mudah dipahami."
      ]
    },
    {
      "cell_type": "code",
      "metadata": {
        "id": "399dFKnOryqv",
        "colab_type": "code",
        "outputId": "9f915f1c-bfbd-46a9-c069-ea8eb1b17fcf",
        "colab": {
          "base_uri": "https://localhost:8080/",
          "height": 102
        }
      },
      "source": [
        "po = pd.Series([\"Po\", \"Panda\", \"Dragon Knight\", 7], index=[\"name\", \"species\", \"title\", \"skill level by default\"])\n",
        "print(po)"
      ],
      "execution_count": 0,
      "outputs": [
        {
          "output_type": "stream",
          "text": [
            "name                                 Po\n",
            "species                           Panda\n",
            "title                     Dragon Knight\n",
            "skill level by default                7\n",
            "dtype: object\n"
          ],
          "name": "stdout"
        }
      ]
    },
    {
      "cell_type": "markdown",
      "metadata": {
        "id": "Kz8Sw7OlxKef",
        "colab_type": "text"
      },
      "source": [
        "Selain menggunakan cara di atas, kita juga dapat menggunakan cara ini untuk membuat series. Terutama bila kita ingin membuat beberapa series dengan menggunakan index yang sama.\n",
        "\n",
        "Dalam Pandas, sekumpulan series disebut dengan Data Frame. Ini mirip dengan table di database."
      ]
    },
    {
      "cell_type": "code",
      "metadata": {
        "id": "kjkVHgVJxuin",
        "colab_type": "code",
        "colab": {}
      },
      "source": [
        "furious_five = pd.DataFrame({'name': ['Tigress', 'Monkey', 'Viper', 'Crane', 'Mantis'],\n",
        "            'species': ['Tiger', 'Monkey', 'Snake', 'Crane', 'Mantis'],\n",
        "            'gender': [\"Female\", 'Male', 'Female', 'Male', 'Male']})"
      ],
      "execution_count": 0,
      "outputs": []
    },
    {
      "cell_type": "markdown",
      "metadata": {
        "id": "23Nsuf6SsR1Y",
        "colab_type": "text"
      },
      "source": [
        "**Indexing**\n",
        "\n",
        "Kita bisa memilih data berdasarkan index tertentu. Karena index sudah kita ganti menjadi nama, maka kita akan lebih mudah melakukan indexing daripada index yang masih berupa angka.\n",
        "\n",
        "Kalau kamu sudah pernah menggunakan query di database. Ini mirip seperti itu kira-kira."
      ]
    },
    {
      "cell_type": "code",
      "metadata": {
        "id": "Cjyeqyxksppm",
        "colab_type": "code",
        "outputId": "0e871a3f-6618-4659-fac0-9c7b91d6712d",
        "colab": {
          "base_uri": "https://localhost:8080/",
          "height": 476
        }
      },
      "source": [
        "print(po['name'])\n",
        "print('')\n",
        "print(furious_five[['name', 'gender']])\n",
        "print('')\n",
        "print(furious_five[furious_five['gender'] == 'Male'])\n",
        "print('')\n",
        "print(furious_five[furious_five['gender'] == 'Female']['name'])\n",
        "print('')\n",
        "print(furious_five[furious_five.gender == 'Male']['name'])\n",
        "print('')\n",
        "print(furious_five.loc[1])"
      ],
      "execution_count": 0,
      "outputs": [
        {
          "output_type": "stream",
          "text": [
            "Po\n",
            "\n",
            "      name  gender\n",
            "0  Tigress  Female\n",
            "1   Monkey    Male\n",
            "2    Viper  Female\n",
            "3    Crane    Male\n",
            "4   Mantis    Male\n",
            "\n",
            "     name species gender\n",
            "1  Monkey  Monkey   Male\n",
            "3   Crane   Crane   Male\n",
            "4  Mantis  Mantis   Male\n",
            "\n",
            "0    Tigress\n",
            "2      Viper\n",
            "Name: name, dtype: object\n",
            "\n",
            "1    Monkey\n",
            "3     Crane\n",
            "4    Mantis\n",
            "Name: name, dtype: object\n",
            "\n",
            "name       Monkey\n",
            "species    Monkey\n",
            "gender       Male\n",
            "Name: 1, dtype: object\n"
          ],
          "name": "stdout"
        }
      ]
    }
  ]
}