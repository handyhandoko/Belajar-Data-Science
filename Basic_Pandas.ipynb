{
  "nbformat": 4,
  "nbformat_minor": 0,
  "metadata": {
    "colab": {
      "name": "Basic Pandas.ipynb",
      "version": "0.3.2",
      "provenance": [],
      "include_colab_link": true
    },
    "kernelspec": {
      "name": "python3",
      "display_name": "Python 3"
    }
  },
  "cells": [
    {
      "cell_type": "markdown",
      "metadata": {
        "id": "view-in-github",
        "colab_type": "text"
      },
      "source": [
        "<a href=\"https://colab.research.google.com/github/handyhandoko/Belajar-Data-Science/blob/master/Basic_Pandas.ipynb\" target=\"_parent\"><img src=\"https://colab.research.google.com/assets/colab-badge.svg\" alt=\"Open In Colab\"/></a>"
      ]
    },
    {
      "cell_type": "markdown",
      "metadata": {
        "id": "ERr2mO0YoxLQ",
        "colab_type": "text"
      },
      "source": [
        "Pada kali ini kita akan belajar tentang library Pandas. Library ini juga lazim digunakan dalam pengolahan data menggunakan Python.\n",
        "\n",
        "Untuk mulai menggunakan pandas, seperti juga library lainnya kita harus mengimport library tersebut terlebih dahulu."
      ]
    },
    {
      "cell_type": "code",
      "metadata": {
        "id": "ClAF11kqn8Xc",
        "colab_type": "code",
        "colab": {}
      },
      "source": [
        "import pandas as pd"
      ],
      "execution_count": 0,
      "outputs": []
    },
    {
      "cell_type": "markdown",
      "metadata": {
        "id": "6_S81h7zo4To",
        "colab_type": "text"
      },
      "source": [
        "Setelah itu baru kita bisa mulai menggunakan Pandas.\n",
        "\n",
        "\n",
        "**Series**\n",
        "\n",
        "Kalau kamu pernah menggunakan database, sebuah data disebut dengan \"record\". Kalau di excel disebut nya row.\n",
        "\n",
        "Dalam Pandas sendiri, sebuah data disebut dengan \"series\".\n",
        "\n",
        "Mari kita coba membuat sebuah series."
      ]
    },
    {
      "cell_type": "code",
      "metadata": {
        "id": "brOEzIZapdSA",
        "colab_type": "code",
        "colab": {
          "base_uri": "https://localhost:8080/",
          "height": 102
        },
        "outputId": "6a9b6aaf-a61c-48b9-ba78-fc0f1a6f6356"
      },
      "source": [
        "po = pd.Series([\"Po\", \"Panda\", \"Dragon Knight\", 7])\n",
        "print(po)"
      ],
      "execution_count": 6,
      "outputs": [
        {
          "output_type": "stream",
          "text": [
            "0               Po\n",
            "1            Panda\n",
            "2    Dragon Knight\n",
            "3                7\n",
            "dtype: object\n"
          ],
          "name": "stdout"
        }
      ]
    },
    {
      "cell_type": "markdown",
      "metadata": {
        "id": "g4_8P3hpre-b",
        "colab_type": "text"
      },
      "source": [
        "Kalau diperhatikan, series yang baru saja kita buat memiliki index berupa 0-3. Mirip seperti array biasa. \n",
        "\n",
        "Mari kita coba membuat ulang series itu. Tapi kali ini kita coba ganti indexnya dengan nama yang lebih mudah dipahami."
      ]
    },
    {
      "cell_type": "code",
      "metadata": {
        "id": "399dFKnOryqv",
        "colab_type": "code",
        "colab": {
          "base_uri": "https://localhost:8080/",
          "height": 102
        },
        "outputId": "9f915f1c-bfbd-46a9-c069-ea8eb1b17fcf"
      },
      "source": [
        "po = pd.Series([\"Po\", \"Panda\", \"Dragon Knight\", 7], index=[\"name\", \"species\", \"title\", \"skill level by default\"])\n",
        "print(po)"
      ],
      "execution_count": 9,
      "outputs": [
        {
          "output_type": "stream",
          "text": [
            "name                                 Po\n",
            "species                           Panda\n",
            "title                     Dragon Knight\n",
            "skill level by default                7\n",
            "dtype: object\n"
          ],
          "name": "stdout"
        }
      ]
    },
    {
      "cell_type": "markdown",
      "metadata": {
        "id": "Kz8Sw7OlxKef",
        "colab_type": "text"
      },
      "source": [
        "Selain menggunakan cara di atas, kita juga dapat menggunakan cara ini untuk membuat series. Terutama bila kita ingin membuat beberapa series dengan menggunakan index yang sama.\n",
        "\n",
        "Dalam Pandas, sekumpulan series disebut dengan Data Frame. Ini mirip dengan table di database."
      ]
    },
    {
      "cell_type": "code",
      "metadata": {
        "id": "kjkVHgVJxuin",
        "colab_type": "code",
        "colab": {}
      },
      "source": [
        "furious_five = pd.DataFrame({'name': ['Tigress', 'Monkey', 'Viper', 'Crane', 'Mantis'],\n",
        "            'Species': ['Tiger', 'Monkey', 'Snake', 'Crane', 'Mantis'],\n",
        "            'Gender': [\"Female\", 'Male', 'Female', 'Male', 'Male']})"
      ],
      "execution_count": 0,
      "outputs": []
    },
    {
      "cell_type": "markdown",
      "metadata": {
        "id": "23Nsuf6SsR1Y",
        "colab_type": "text"
      },
      "source": [
        "**Indexing**\n",
        "\n",
        "Kita bisa memilih data berdasarkan index tertentu. Karena index sudah kita ganti menjadi nama, maka kita akan lebih mudah melakukan indexing daripada index yang masih berupa angka.\n",
        "\n",
        "Kalau kamu sudah pernah menggunakan query di database. Ini mirip seperti itu kira-kira."
      ]
    },
    {
      "cell_type": "code",
      "metadata": {
        "id": "Cjyeqyxksppm",
        "colab_type": "code",
        "colab": {
          "base_uri": "https://localhost:8080/",
          "height": 119
        },
        "outputId": "00955af0-46e9-49bb-94a0-6121a7970ad1"
      },
      "source": [
        "print(po['name'])\n",
        "print('')\n",
        "print(po[['name', 'title', 'skill level by default']])"
      ],
      "execution_count": 14,
      "outputs": [
        {
          "output_type": "stream",
          "text": [
            "Po\n",
            "\n",
            "name                                 Po\n",
            "title                     Dragon Knight\n",
            "skill level by default                7\n",
            "dtype: object\n"
          ],
          "name": "stdout"
        }
      ]
    }
  ]
}